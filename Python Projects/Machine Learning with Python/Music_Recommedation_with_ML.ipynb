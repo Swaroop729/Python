{
 "cells": [
  {
   "cell_type": "code",
   "execution_count": 35,
   "metadata": {},
   "outputs": [
    {
     "name": "stderr",
     "output_type": "stream",
     "text": [
      "C:\\Users\\yella\\anaconda3\\lib\\site-packages\\sklearn\\externals\\joblib\\__init__.py:15: FutureWarning: sklearn.externals.joblib is deprecated in 0.21 and will be removed in 0.23. Please import this functionality directly from joblib, which can be installed with: pip install joblib. If this warning is raised when loading pickled models, you may need to re-serialize those models with scikit-learn 0.21+.\n",
      "  warnings.warn(msg, category=FutureWarning)\n"
     ]
    },
    {
     "data": {
      "text/plain": [
       "['music-model.joblib']"
      ]
     },
     "execution_count": 35,
     "metadata": {},
     "output_type": "execute_result"
    }
   ],
   "source": [
    "#pandas is a most popular two dimensional framework strucutre\n",
    "import pandas as pd\n",
    "\n",
    "#model from the sklearn\n",
    "from sklearn.tree import DecisionTreeClassifier\n",
    "\n",
    "# in order to randomly split the testcases and the input cases\n",
    "from sklearn.model_selection import train_test_split\n",
    "\n",
    "#in order to check the accuracy of the predictions\n",
    "from sklearn.metrics import accuracy_score\n",
    "\n",
    "#we can use the joblib to save the learned model as the file and we can use it later\n",
    "from sklearn.externals import joblib\n",
    "\n",
    "music_csv = pd.read_csv('music.csv')\n",
    "#dropping the genere columns since we need to have two different sets with input and output\n",
    "x = music_csv.drop(columns='genre')\n",
    "# outputset with genre\n",
    "y = music_csv['genre']\n",
    "\n",
    "#creating model object which is imported from famous library for models scikitlearn\n",
    "model = DecisionTreeClassifier()\n",
    "\n",
    "# Genrally while feeding the model we use atleat 20 to 30 percent of cases left for testing so we need to split them into \n",
    "# different data sets, we can use the inbuilt method as shown below in the code.\n",
    "#model.fit(x,y)\n",
    "\n",
    "#spliting the input and output sets for testing and training with the train_test_split which returns four lists\n",
    "Input_train,Input_test,Output_train,Output_test = train_test_split(x,y,test_size=0.2)\n",
    "\n",
    "model.fit(Input_train,Output_train)\n",
    "\n",
    "#Fetch the results for the 0.2% test cases\n",
    "predictions = model.predict(Input_test)\n",
    "\n",
    "#After getting the predictions check them with the Output_test to get the accuracy\n",
    "accuracy_score(Output_test, predictions)\n",
    "\n",
    "#Now training a model everytime will time be time consuming and it actually depends upon the number of records. since the\n",
    "# training can be tedious or time cousuming with millions of test cases. so we can use the joblib which can save the learned \n",
    "# model and load it next and ask for prediction without feeding the test cases for model again\n",
    "joblib.dump(model,'music-model.joblib')\n",
    "\n",
    "#Inorder to use the joblib we can comment the code for feeding the model and can run the load moudule fo the joblib to\n",
    "# model = joblib.load('music-model.joblib')\n",
    "# model.predict(Input_test)\n",
    "\n"
   ]
  },
  {
   "cell_type": "code",
   "execution_count": null,
   "metadata": {},
   "outputs": [],
   "source": []
  },
  {
   "cell_type": "code",
   "execution_count": 40,
   "metadata": {},
   "outputs": [],
   "source": [
    "#Visualising a Decision Tree\n",
    "import pandas as pd\n",
    "from sklearn.tree import DecisionTreeClassifier\n",
    "\n",
    "# inorder to visualise the tree we need to import it from the sklearn\n",
    "from sklearn import tree\n",
    "\n",
    "music_csv = pd.read_csv('music.csv')\n",
    "x = music_csv.drop(columns='genre')\n",
    "y = music_csv['genre']\n",
    "\n",
    "model = DecisionTreeClassifier()\n",
    "model.fit(x,y)\n",
    "\n",
    "# we can export the tree using the below method in dot format which is a graphical representation of learned model\n",
    "tree.export_graphviz(model,out_file='music-recommender.dot',\n",
    "                    feature_names=['age','gender'],\n",
    "                     class_names=sorted(y.unique()),\n",
    "                     rounded=True,\n",
    "                     label='all',\n",
    "                     filled=True\n",
    "                    )\n",
    "\n",
    "# Inorder to visualise the dot representation of how the model is learned we need to use the vs code along with a\n",
    "# dot graphvizextension in vs"
   ]
  },
  {
   "cell_type": "code",
   "execution_count": null,
   "metadata": {},
   "outputs": [],
   "source": []
  }
 ],
 "metadata": {
  "kernelspec": {
   "display_name": "Python 3",
   "language": "python",
   "name": "python3"
  },
  "language_info": {
   "codemirror_mode": {
    "name": "ipython",
    "version": 3
   },
   "file_extension": ".py",
   "mimetype": "text/x-python",
   "name": "python",
   "nbconvert_exporter": "python",
   "pygments_lexer": "ipython3",
   "version": "3.7.6"
  }
 },
 "nbformat": 4,
 "nbformat_minor": 4
}
